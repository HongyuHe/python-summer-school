{
 "cells": [
  {
   "cell_type": "code",
   "execution_count": 3,
   "metadata": {
    "collapsed": false
   },
   "outputs": [
    {
     "name": "stdout",
     "output_type": "stream",
     "text": [
      "5\n",
      "something\n",
      "6\n"
     ]
    }
   ],
   "source": [
    "x = 5 # This is global by default. you don't have to say global x\n",
    "def fun():\n",
    "    # Here, if you want to change x, then write\n",
    "    global x\n",
    "    x = 6\n",
    "    print(\"something\")\n",
    "    \n",
    "print(x)\n",
    "fun()\n",
    "print(x)"
   ]
  },
  {
   "cell_type": "code",
   "execution_count": 4,
   "metadata": {
    "collapsed": true
   },
   "outputs": [],
   "source": [
    "import pandas as pd"
   ]
  },
  {
   "cell_type": "code",
   "execution_count": 5,
   "metadata": {
    "collapsed": true
   },
   "outputs": [],
   "source": [
    "import random"
   ]
  },
  {
   "cell_type": "code",
   "execution_count": 6,
   "metadata": {
    "collapsed": false
   },
   "outputs": [
    {
     "name": "stdout",
     "output_type": "stream",
     "text": [
      "Help on method randrange in module random:\n",
      "\n",
      "randrange(start, stop=None, step=1, _int=<class 'int'>) method of random.Random instance\n",
      "    Choose a random item from range(start, stop[, step]).\n",
      "    \n",
      "    This fixes the problem with randint() which includes the\n",
      "    endpoint; in Python this is usually not what you want.\n",
      "\n"
     ]
    }
   ],
   "source": [
    "help(random.randrange)"
   ]
  },
  {
   "cell_type": "code",
   "execution_count": 7,
   "metadata": {
    "collapsed": false
   },
   "outputs": [
    {
     "name": "stdout",
     "output_type": "stream",
     "text": [
      "Help on built-in function random:\n",
      "\n",
      "random(...) method of random.Random instance\n",
      "    random() -> x in the interval [0, 1).\n",
      "\n"
     ]
    }
   ],
   "source": [
    "help(random.random)"
   ]
  },
  {
   "cell_type": "code",
   "execution_count": 19,
   "metadata": {
    "collapsed": false
   },
   "outputs": [
    {
     "name": "stdout",
     "output_type": "stream",
     "text": [
      "Help on built-in function round in module builtins:\n",
      "\n",
      "round(...)\n",
      "    round(number[, ndigits]) -> number\n",
      "    \n",
      "    Round a number to a given precision in decimal digits (default 0 digits).\n",
      "    This returns an int when called with one argument, otherwise the\n",
      "    same type as the number. ndigits may be negative.\n",
      "\n"
     ]
    }
   ],
   "source": [
    "help(round)"
   ]
  },
  {
   "cell_type": "code",
   "execution_count": 23,
   "metadata": {
    "collapsed": false
   },
   "outputs": [
    {
     "name": "stdout",
     "output_type": "stream",
     "text": [
      "3.73\n",
      "10.7\n",
      "21.77\n",
      "5.37\n",
      "21.45\n"
     ]
    }
   ],
   "source": [
    "# To generate random numbers without 0 : Not so smart way\n",
    "for i in range(5):\n",
    "    number = round(random.random() * 25 , 2)  # Gives me numbers from 0 to 25\n",
    "    while True:\n",
    "        if number != 0:\n",
    "            break\n",
    "        number = round(random.random() * 25, 2)\n",
    "    print(number)"
   ]
  },
  {
   "cell_type": "code",
   "execution_count": 29,
   "metadata": {
    "collapsed": false
   },
   "outputs": [
    {
     "name": "stdout",
     "output_type": "stream",
     "text": [
      "15.18\n",
      "1.43\n",
      "7.68\n",
      "21.58\n",
      "7.98\n"
     ]
    }
   ],
   "source": [
    "# To generate random numbers withotu 0 : A smarter way\n",
    "for i in range(5):\n",
    "    number = round(random.random()* 25,2) + float(1.0)\n",
    "    print(number)"
   ]
  },
  {
   "cell_type": "code",
   "execution_count": 106,
   "metadata": {
    "collapsed": false
   },
   "outputs": [],
   "source": [
    "data = \"num1,num2,num3,num4,num5\\n\"\n",
    "for n in range(20):\n",
    "    row = \"\"\n",
    "    for i in range(5):\n",
    "        # str will properly display the float to 2 decimal places\n",
    "        number = str(round(random.random()* 25,2)) #+ float(1.0)\n",
    "        row += str(number)\n",
    "        if i != 4:\n",
    "            row += \",\"\n",
    "        \n",
    "    row += \"\\n\" # Add a new line after the row\n",
    "    # row = row + \"\\n\"\n",
    "    data += row # add row to the data\n",
    "\n",
    "# Here I have a string \"data\" that contains\n",
    "# 20 rows of 5 comma separated numbers\n",
    "#print (data)\n",
    "# with clause\n",
    "# open function\n",
    "# fout is the object of file\n",
    "# \"w\" write mode : will overwrite the file\n",
    "with open (\"test.csv\", \"w\") as fout:\n",
    "    fout.write(data)\n",
    "\n",
    "    "
   ]
  },
  {
   "cell_type": "code",
   "execution_count": 105,
   "metadata": {
    "collapsed": false
   },
   "outputs": [
    {
     "name": "stdout",
     "output_type": "stream",
     "text": [
      "num1,num2,num3,num4,num5\n",
      "8.86,13.97,22.17,22.64,8.28\n",
      "5.98,11.87,19.75,8.74,1.31\n",
      "22.89,3.14,4.36,4.17,12.73\n",
      "7.4,5.05,4.64,17.2,18.67\n",
      "1.63,7.71,3.57,1.59,19.48\n",
      "18.33,7.32,24.65,9.2,2.9\n",
      "6.52,20.93,6.88,21.71,14.63\n",
      "7.56,6.21,21.39,12.35,23.27\n",
      "15.37,18.57,23.04,0.98,21.4\n",
      "16.47,17.6,17.58,23.56,15.11\n",
      "7.15,22.63,2.27,23.26,22.02\n",
      "18.42,23.52,18.35,4.81,18.51\n",
      "19.14,0.1,20.61,13.87,18.39\n",
      "3.33,5.24,7.47,14.05,20.54\n",
      "0.55,0.17,19.81,20.88,15.72\n",
      "21.35,19.47,13.96,5.74,22.36\n",
      "22.09,16.71,14.39,17.2,15.2\n",
      "1.56,7.13,15.04,7.57,23.67\n",
      "13.12,23.27,7.18,9.99,18.88\n",
      "24.99,10.45,18.13,17.72,5.06\n",
      "\n"
     ]
    }
   ],
   "source": [
    "print (data)"
   ]
  },
  {
   "cell_type": "code",
   "execution_count": 102,
   "metadata": {
    "collapsed": false
   },
   "outputs": [
    {
     "name": "stdout",
     "output_type": "stream",
     "text": [
      "/Users/unmesh/programming/python-for-beginners\r\n"
     ]
    }
   ],
   "source": [
    "!pwd # Present Working Directory . It is not a Python command\n",
    "\n"
   ]
  },
  {
   "cell_type": "code",
   "execution_count": 44,
   "metadata": {
    "collapsed": true
   },
   "outputs": [],
   "source": [
    "# as \"pd\" allows us to be lazy\n",
    "import pandas as pd"
   ]
  },
  {
   "cell_type": "code",
   "execution_count": 45,
   "metadata": {
    "collapsed": true
   },
   "outputs": [],
   "source": [
    "df = pd.read_csv(\"test.csv\")"
   ]
  },
  {
   "cell_type": "code",
   "execution_count": 46,
   "metadata": {
    "collapsed": false
   },
   "outputs": [
    {
     "data": {
      "text/plain": [
       "pandas.core.frame.DataFrame"
      ]
     },
     "execution_count": 46,
     "metadata": {},
     "output_type": "execute_result"
    }
   ],
   "source": [
    "type(df)"
   ]
  },
  {
   "cell_type": "code",
   "execution_count": 47,
   "metadata": {
    "collapsed": false
   },
   "outputs": [
    {
     "data": {
      "text/html": [
       "<div>\n",
       "<style>\n",
       "    .dataframe thead tr:only-child th {\n",
       "        text-align: right;\n",
       "    }\n",
       "\n",
       "    .dataframe thead th {\n",
       "        text-align: left;\n",
       "    }\n",
       "\n",
       "    .dataframe tbody tr th {\n",
       "        vertical-align: top;\n",
       "    }\n",
       "</style>\n",
       "<table border=\"1\" class=\"dataframe\">\n",
       "  <thead>\n",
       "    <tr style=\"text-align: right;\">\n",
       "      <th></th>\n",
       "      <th>num1</th>\n",
       "      <th>num2</th>\n",
       "      <th>num3</th>\n",
       "      <th>num4</th>\n",
       "      <th>num5</th>\n",
       "    </tr>\n",
       "  </thead>\n",
       "  <tbody>\n",
       "    <tr>\n",
       "      <th>count</th>\n",
       "      <td>20.0000</td>\n",
       "      <td>20.000000</td>\n",
       "      <td>20.00000</td>\n",
       "      <td>20.000000</td>\n",
       "      <td>20.000000</td>\n",
       "    </tr>\n",
       "    <tr>\n",
       "      <th>mean</th>\n",
       "      <td>14.7225</td>\n",
       "      <td>13.954500</td>\n",
       "      <td>13.38900</td>\n",
       "      <td>13.387000</td>\n",
       "      <td>14.029000</td>\n",
       "    </tr>\n",
       "    <tr>\n",
       "      <th>std</th>\n",
       "      <td>6.5656</td>\n",
       "      <td>7.637029</td>\n",
       "      <td>7.19344</td>\n",
       "      <td>6.955324</td>\n",
       "      <td>7.354314</td>\n",
       "    </tr>\n",
       "    <tr>\n",
       "      <th>min</th>\n",
       "      <td>3.4500</td>\n",
       "      <td>1.280000</td>\n",
       "      <td>1.18000</td>\n",
       "      <td>1.150000</td>\n",
       "      <td>2.020000</td>\n",
       "    </tr>\n",
       "    <tr>\n",
       "      <th>25%</th>\n",
       "      <td>10.7400</td>\n",
       "      <td>7.485000</td>\n",
       "      <td>7.91500</td>\n",
       "      <td>9.407500</td>\n",
       "      <td>7.657500</td>\n",
       "    </tr>\n",
       "    <tr>\n",
       "      <th>50%</th>\n",
       "      <td>15.7450</td>\n",
       "      <td>14.065000</td>\n",
       "      <td>14.65500</td>\n",
       "      <td>13.145000</td>\n",
       "      <td>14.740000</td>\n",
       "    </tr>\n",
       "    <tr>\n",
       "      <th>75%</th>\n",
       "      <td>18.0125</td>\n",
       "      <td>20.565000</td>\n",
       "      <td>18.97750</td>\n",
       "      <td>20.177500</td>\n",
       "      <td>20.490000</td>\n",
       "    </tr>\n",
       "    <tr>\n",
       "      <th>max</th>\n",
       "      <td>25.7800</td>\n",
       "      <td>25.190000</td>\n",
       "      <td>25.75000</td>\n",
       "      <td>22.220000</td>\n",
       "      <td>24.570000</td>\n",
       "    </tr>\n",
       "  </tbody>\n",
       "</table>\n",
       "</div>"
      ],
      "text/plain": [
       "          num1       num2      num3       num4       num5\n",
       "count  20.0000  20.000000  20.00000  20.000000  20.000000\n",
       "mean   14.7225  13.954500  13.38900  13.387000  14.029000\n",
       "std     6.5656   7.637029   7.19344   6.955324   7.354314\n",
       "min     3.4500   1.280000   1.18000   1.150000   2.020000\n",
       "25%    10.7400   7.485000   7.91500   9.407500   7.657500\n",
       "50%    15.7450  14.065000  14.65500  13.145000  14.740000\n",
       "75%    18.0125  20.565000  18.97750  20.177500  20.490000\n",
       "max    25.7800  25.190000  25.75000  22.220000  24.570000"
      ]
     },
     "execution_count": 47,
     "metadata": {},
     "output_type": "execute_result"
    }
   ],
   "source": [
    "df.describe()"
   ]
  },
  {
   "cell_type": "code",
   "execution_count": 55,
   "metadata": {
    "collapsed": true
   },
   "outputs": [],
   "source": [
    "import matplotlib.pyplot as plt"
   ]
  },
  {
   "cell_type": "code",
   "execution_count": 65,
   "metadata": {
    "collapsed": false
   },
   "outputs": [
    {
     "data": {
      "image/png": "[encoded data removed]",
      "text/plain": [
       "<matplotlib.figure.Figure at 0x112aa4358>"
      ]
     },
     "metadata": {},
     "output_type": "display_data"
    }
   ],
   "source": [
    "plt.plot(df.get_values())\n",
    "plt.savefig(\"myplot.png\") # saves the file\n",
    "plt.show() # will show the plot"
   ]
  },
  {
   "cell_type": "markdown",
   "metadata": {},
   "source": [
    "## Generators"
   ]
  },
  {
   "cell_type": "code",
   "execution_count": 66,
   "metadata": {
    "collapsed": true
   },
   "outputs": [],
   "source": [
    "numbers = range(5)"
   ]
  },
  {
   "cell_type": "code",
   "execution_count": 69,
   "metadata": {
    "collapsed": true
   },
   "outputs": [],
   "source": [
    "# This function will return different value \n",
    "# three times\n",
    "# you call the function with next()\n",
    "def simple_generator():\n",
    "    yield 1\n",
    "    yield 2\n",
    "    yield 3"
   ]
  },
  {
   "cell_type": "code",
   "execution_count": 79,
   "metadata": {
    "collapsed": false
   },
   "outputs": [
    {
     "data": {
      "text/plain": [
       "1"
      ]
     },
     "execution_count": 79,
     "metadata": {},
     "output_type": "execute_result"
    }
   ],
   "source": [
    "# Assign the generator to mg object\n",
    "mg = simple_generator()\n",
    "# next(mg) will give you the next value yielded by the function\n",
    "next(mg)"
   ]
  },
  {
   "cell_type": "code",
   "execution_count": 80,
   "metadata": {
    "collapsed": false
   },
   "outputs": [
    {
     "data": {
      "text/plain": [
       "2"
      ]
     },
     "execution_count": 80,
     "metadata": {},
     "output_type": "execute_result"
    }
   ],
   "source": [
    "next(mg)"
   ]
  },
  {
   "cell_type": "code",
   "execution_count": 81,
   "metadata": {
    "collapsed": false
   },
   "outputs": [
    {
     "data": {
      "text/plain": [
       "3"
      ]
     },
     "execution_count": 81,
     "metadata": {},
     "output_type": "execute_result"
    }
   ],
   "source": [
    "next(mg)"
   ]
  },
  {
   "cell_type": "code",
   "execution_count": 82,
   "metadata": {
    "collapsed": false
   },
   "outputs": [
    {
     "ename": "StopIteration",
     "evalue": "",
     "output_type": "error",
     "traceback": [
      "\u001b[0;31m---------------------------------------------------------------------------\u001b[0m",
      "\u001b[0;31mStopIteration\u001b[0m                             Traceback (most recent call last)",
      "\u001b[0;32m<ipython-input-82-46a476935e57>\u001b[0m in \u001b[0;36m<module>\u001b[0;34m()\u001b[0m\n\u001b[0;32m----> 1\u001b[0;31m \u001b[0mnext\u001b[0m\u001b[0;34m(\u001b[0m\u001b[0mmg\u001b[0m\u001b[0;34m)\u001b[0m\u001b[0;34m\u001b[0m\u001b[0m\n\u001b[0m",
      "\u001b[0;31mStopIteration\u001b[0m: "
     ]
    }
   ],
   "source": [
    "next(mg)"
   ]
  },
  {
   "cell_type": "code",
   "execution_count": 83,
   "metadata": {
    "collapsed": true
   },
   "outputs": [],
   "source": [
    "# Generator function\n",
    "# to generate fibonacci numbers\n",
    "def next_fibonacci_number():\n",
    "    yield 0\n",
    "    yield 1\n",
    "    first = 0\n",
    "    second = 1\n",
    "    while True:\n",
    "        third = first + second\n",
    "        first = second\n",
    "        second = third\n",
    "        yield third"
   ]
  },
  {
   "cell_type": "code",
   "execution_count": 84,
   "metadata": {
    "collapsed": false
   },
   "outputs": [
    {
     "data": {
      "text/plain": [
       "0"
      ]
     },
     "execution_count": 84,
     "metadata": {},
     "output_type": "execute_result"
    }
   ],
   "source": [
    "mf = next_fibonacci_number()\n",
    "next(mf)"
   ]
  },
  {
   "cell_type": "code",
   "execution_count": 85,
   "metadata": {
    "collapsed": false
   },
   "outputs": [
    {
     "data": {
      "text/plain": [
       "1"
      ]
     },
     "execution_count": 85,
     "metadata": {},
     "output_type": "execute_result"
    }
   ],
   "source": [
    "next(mf)"
   ]
  },
  {
   "cell_type": "code",
   "execution_count": 87,
   "metadata": {
    "collapsed": false
   },
   "outputs": [
    {
     "name": "stdout",
     "output_type": "stream",
     "text": [
      "5 8 13 21 34\n"
     ]
    }
   ],
   "source": [
    "print(next(mf), next(mf), next(mf), next(mf), next(mf))"
   ]
  },
  {
   "cell_type": "code",
   "execution_count": 89,
   "metadata": {
    "collapsed": false
   },
   "outputs": [],
   "source": [
    "def dont_write_such_a_function():\n",
    "    print(\"Hello\")\n",
    "    return 5\n",
    "    print (\"I still want to do a lot with my life\")"
   ]
  },
  {
   "cell_type": "code",
   "execution_count": 90,
   "metadata": {
    "collapsed": false
   },
   "outputs": [
    {
     "name": "stdout",
     "output_type": "stream",
     "text": [
      "Hello\n",
      "5\n"
     ]
    }
   ],
   "source": [
    "x = dont_write_such_a_function()\n",
    "print(x)"
   ]
  },
  {
   "cell_type": "markdown",
   "metadata": {},
   "source": [
    "## Function with variable number of arguments"
   ]
  },
  {
   "cell_type": "code",
   "execution_count": 99,
   "metadata": {
    "collapsed": true
   },
   "outputs": [],
   "source": [
    "# print() function takes variable number of arguments\n",
    "# nums is a number\n",
    "# kwargs is a dictionary\n",
    "def average(*nums, **kwargs): # passed in a list\n",
    "    sum = 0\n",
    "    for n in nums: # n will have values from the list nums\n",
    "        sum += n\n",
    "    return sum / kwargs['divide']\n",
    "\n"
   ]
  },
  {
   "cell_type": "code",
   "execution_count": 100,
   "metadata": {
    "collapsed": false
   },
   "outputs": [
    {
     "data": {
      "text/plain": [
       "0.7"
      ]
     },
     "execution_count": 100,
     "metadata": {},
     "output_type": "execute_result"
    }
   ],
   "source": [
    "# # passing two positional params\n",
    "# and one keyword parameter\n",
    "average(3,4, divide=10) "
   ]
  },
  {
   "cell_type": "code",
   "execution_count": 95,
   "metadata": {
    "collapsed": false
   },
   "outputs": [
    {
     "data": {
      "text/plain": [
       "3.0"
      ]
     },
     "execution_count": 95,
     "metadata": {},
     "output_type": "execute_result"
    }
   ],
   "source": [
    "average(1,2,3,4,5)"
   ]
  },
  {
   "cell_type": "code",
   "execution_count": 96,
   "metadata": {
    "collapsed": false
   },
   "outputs": [
    {
     "data": {
      "text/plain": [
       "5.5"
      ]
     },
     "execution_count": 96,
     "metadata": {},
     "output_type": "execute_result"
    }
   ],
   "source": [
    "average(1,2,3,4,5,6,7,8,9,10)"
   ]
  },
  {
   "cell_type": "code",
   "execution_count": null,
   "metadata": {
    "collapsed": true
   },
   "outputs": [],
   "source": []
  }
 ],
 "metadata": {
  "kernelspec": {
   "display_name": "Python 3",
   "language": "python",
   "name": "python3"
  },
  "language_info": {
   "codemirror_mode": {
    "name": "ipython",
    "version": 3
   },
   "file_extension": ".py",
   "mimetype": "text/x-python",
   "name": "python",
   "nbconvert_exporter": "python",
   "pygments_lexer": "ipython3",
   "version": "3.4.5"
  }
 },
 "nbformat": 4,
 "nbformat_minor": 2
}
