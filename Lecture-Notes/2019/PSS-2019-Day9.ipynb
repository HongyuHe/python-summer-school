{
 "cells": [
  {
   "cell_type": "markdown",
   "metadata": {},
   "source": [
    "## Python course day 9"
   ]
  },
  {
   "cell_type": "markdown",
   "metadata": {},
   "source": [
    "## Revision of concepts"
   ]
  },
  {
   "cell_type": "markdown",
   "metadata": {},
   "source": [
    "* Generator function: function in which you use the keyword yield to control the flow so that each time you call a function, you can only generate one value.\n",
    "* Object Oriented programming (OOP) : obj.func() In OOP, you have a concept of class that describes attributes of the object of that class.\n",
    "* procedure oriented programming: func()"
   ]
  },
  {
   "cell_type": "code",
   "execution_count": 19,
   "metadata": {},
   "outputs": [],
   "source": [
    "class Student:\n",
    "    def __init__(self, n, a, c):\n",
    "        self.name    = n\n",
    "        self.age     = a\n",
    "        self.country = c\n",
    "    def __str__(self):\n",
    "        return self.name + \"-\" + str(self.age) + \"-\" + self.country"
   ]
  },
  {
   "cell_type": "code",
   "execution_count": 14,
   "metadata": {},
   "outputs": [],
   "source": [
    "class University:\n",
    "    def __init__(self, students):\n",
    "        self.students = students\n",
    "        \n",
    "    def print_students(self):\n",
    "        for s in self.students:\n",
    "            print(s)"
   ]
  },
  {
   "cell_type": "code",
   "execution_count": 15,
   "metadata": {},
   "outputs": [],
   "source": [
    "# create 3 student objects\n",
    "student1 = Student(\"Ling\", 25, \"China\")\n",
    "student2 = Student(\"Simon\", 23, \"Belgium\")\n",
    "student3 = Student(\"Sarah\", 24, \"USA\")"
   ]
  },
  {
   "cell_type": "code",
   "execution_count": 16,
   "metadata": {},
   "outputs": [],
   "source": [
    "# a list of student objects\n",
    "student_list = []\n",
    "student_list.append(student1)\n",
    "student_list.append(student2)\n",
    "student_list.append(student3)"
   ]
  },
  {
   "cell_type": "code",
   "execution_count": 17,
   "metadata": {},
   "outputs": [],
   "source": [
    "vu = University(student_list)"
   ]
  },
  {
   "cell_type": "code",
   "execution_count": 18,
   "metadata": {},
   "outputs": [
    {
     "name": "stdout",
     "output_type": "stream",
     "text": [
      "Ling-25-China\n",
      "Simon-23-Belgium\n",
      "Sarah-24-USA\n"
     ]
    }
   ],
   "source": [
    "vu.print_students() # obj.func() => func(obj)"
   ]
  },
  {
   "cell_type": "code",
   "execution_count": 28,
   "metadata": {},
   "outputs": [],
   "source": [
    "class animal:\n",
    "    def __init__(self, n):\n",
    "        self.name = n\n",
    "        \n",
    "    def print_animal(self):\n",
    "        print(self.name)"
   ]
  },
  {
   "cell_type": "code",
   "execution_count": 34,
   "metadata": {},
   "outputs": [],
   "source": [
    "#reptile is a sub-class, animal is a super-class\n",
    "class reptile(animal):\n",
    "    def __init__(self, n, f):\n",
    "        super().__init__(n)\n",
    "        self.feature = f\n",
    "    \n",
    "    def print_reptile(self):\n",
    "        super().print_animal()\n",
    "        print(self.feature)"
   ]
  },
  {
   "cell_type": "code",
   "execution_count": 35,
   "metadata": {},
   "outputs": [],
   "source": [
    "crocodile = reptile(\"Crocodile\", \"lay eggs\")"
   ]
  },
  {
   "cell_type": "code",
   "execution_count": 36,
   "metadata": {},
   "outputs": [
    {
     "name": "stdout",
     "output_type": "stream",
     "text": [
      "Crocodile\n",
      "lay eggs\n"
     ]
    }
   ],
   "source": [
    "crocodile.print_reptile()"
   ]
  },
  {
   "cell_type": "code",
   "execution_count": 37,
   "metadata": {},
   "outputs": [
    {
     "name": "stdout",
     "output_type": "stream",
     "text": [
      "Requirement already satisfied: pytube in /anaconda3/lib/python3.6/site-packages (9.5.1)\r\n"
     ]
    }
   ],
   "source": [
    "!pip install pytube"
   ]
  },
  {
   "cell_type": "code",
   "execution_count": 38,
   "metadata": {},
   "outputs": [],
   "source": [
    "from pytube import Playlist"
   ]
  },
  {
   "cell_type": "code",
   "execution_count": 39,
   "metadata": {},
   "outputs": [
    {
     "data": {
      "text/plain": [
       "'/Users/unmesh'"
      ]
     },
     "execution_count": 39,
     "metadata": {},
     "output_type": "execute_result"
    }
   ],
   "source": [
    "pwd"
   ]
  },
  {
   "cell_type": "code",
   "execution_count": 40,
   "metadata": {},
   "outputs": [],
   "source": [
    "import os"
   ]
  },
  {
   "cell_type": "code",
   "execution_count": 41,
   "metadata": {},
   "outputs": [],
   "source": [
    "os.mkdir('Dutch-songs')"
   ]
  },
  {
   "cell_type": "code",
   "execution_count": 42,
   "metadata": {},
   "outputs": [],
   "source": [
    "os.chdir('Dutch-songs')"
   ]
  },
  {
   "cell_type": "code",
   "execution_count": 43,
   "metadata": {},
   "outputs": [
    {
     "data": {
      "text/plain": [
       "'/Users/unmesh/Dutch-songs'"
      ]
     },
     "execution_count": 43,
     "metadata": {},
     "output_type": "execute_result"
    }
   ],
   "source": [
    "pwd"
   ]
  },
  {
   "cell_type": "code",
   "execution_count": 44,
   "metadata": {},
   "outputs": [],
   "source": [
    "myp = Playlist('https://www.youtube.com/playlist?list=PLp4IruhRtnPP4qPNpjGyUL6kEIF70kpWU')"
   ]
  },
  {
   "cell_type": "code",
   "execution_count": 46,
   "metadata": {},
   "outputs": [
    {
     "data": {
      "text/plain": [
       "'Dutch'"
      ]
     },
     "execution_count": 46,
     "metadata": {},
     "output_type": "execute_result"
    }
   ],
   "source": [
    "myp.title()"
   ]
  },
  {
   "cell_type": "code",
   "execution_count": 49,
   "metadata": {},
   "outputs": [],
   "source": [
    "videos = myp.populate_video_urls()"
   ]
  },
  {
   "cell_type": "code",
   "execution_count": 52,
   "metadata": {},
   "outputs": [
    {
     "data": {
      "text/plain": [
       "'https://www.youtube.com/playlist?list=PLp4IruhRtnPP4qPNpjGyUL6kEIF70kpWU'"
      ]
     },
     "execution_count": 52,
     "metadata": {},
     "output_type": "execute_result"
    }
   ],
   "source": [
    "myp.playlist_url"
   ]
  },
  {
   "cell_type": "code",
   "execution_count": 56,
   "metadata": {},
   "outputs": [],
   "source": [
    "from pytube import YouTube"
   ]
  },
  {
   "cell_type": "code",
   "execution_count": 57,
   "metadata": {},
   "outputs": [],
   "source": [
    "yt = YouTube('https://www.youtube.com/watch?v=7ECB5AigzzY&list=PLp4IruhRtnPP4qPNpjGyUL6kEIF70kpWU&index=2&t=0s')"
   ]
  },
  {
   "cell_type": "code",
   "execution_count": 64,
   "metadata": {},
   "outputs": [
    {
     "data": {
      "text/plain": [
       "'13614793'"
      ]
     },
     "execution_count": 64,
     "metadata": {},
     "output_type": "execute_result"
    }
   ],
   "source": [
    "yt.views"
   ]
  },
  {
   "cell_type": "code",
   "execution_count": 69,
   "metadata": {},
   "outputs": [],
   "source": [
    "video = yt.streams.first()"
   ]
  },
  {
   "cell_type": "code",
   "execution_count": 70,
   "metadata": {},
   "outputs": [
    {
     "data": {
      "text/plain": [
       "pytube.streams.Stream"
      ]
     },
     "execution_count": 70,
     "metadata": {},
     "output_type": "execute_result"
    }
   ],
   "source": [
    "type(video)"
   ]
  },
  {
   "cell_type": "code",
   "execution_count": 73,
   "metadata": {},
   "outputs": [
    {
     "data": {
      "text/plain": [
       "'/Users/unmesh/Dutch-songs'"
      ]
     },
     "execution_count": 73,
     "metadata": {},
     "output_type": "execute_result"
    }
   ],
   "source": [
    "pwd"
   ]
  },
  {
   "cell_type": "code",
   "execution_count": 74,
   "metadata": {},
   "outputs": [],
   "source": [
    "os.chdir('/Users/unmesh/Unicorn')"
   ]
  },
  {
   "cell_type": "code",
   "execution_count": 75,
   "metadata": {},
   "outputs": [
    {
     "data": {
      "text/plain": [
       "'/Users/unmesh/Unicorn'"
      ]
     },
     "execution_count": 75,
     "metadata": {},
     "output_type": "execute_result"
    }
   ],
   "source": [
    "pwd"
   ]
  },
  {
   "cell_type": "code",
   "execution_count": 76,
   "metadata": {},
   "outputs": [],
   "source": [
    "import pandas as pd"
   ]
  },
  {
   "cell_type": "code",
   "execution_count": 112,
   "metadata": {},
   "outputs": [],
   "source": [
    "# df is the object of Dataframe class returned by read_excel\n",
    "df = pd.read_excel(\"SampleData.xlsx\", sheet_name=\"SalesOrders\")"
   ]
  },
  {
   "cell_type": "code",
   "execution_count": 81,
   "metadata": {},
   "outputs": [
    {
     "data": {
      "text/html": [
       "<div>\n",
       "<style scoped>\n",
       "    .dataframe tbody tr th:only-of-type {\n",
       "        vertical-align: middle;\n",
       "    }\n",
       "\n",
       "    .dataframe tbody tr th {\n",
       "        vertical-align: top;\n",
       "    }\n",
       "\n",
       "    .dataframe thead th {\n",
       "        text-align: right;\n",
       "    }\n",
       "</style>\n",
       "<table border=\"1\" class=\"dataframe\">\n",
       "  <thead>\n",
       "    <tr style=\"text-align: right;\">\n",
       "      <th></th>\n",
       "      <th>OrderDate</th>\n",
       "      <th>Region</th>\n",
       "      <th>Rep</th>\n",
       "      <th>Item</th>\n",
       "      <th>Units</th>\n",
       "      <th>Unit Cost</th>\n",
       "      <th>Total</th>\n",
       "    </tr>\n",
       "  </thead>\n",
       "  <tbody>\n",
       "    <tr>\n",
       "      <th>0</th>\n",
       "      <td>2018-01-06</td>\n",
       "      <td>East</td>\n",
       "      <td>Jones</td>\n",
       "      <td>Pencil</td>\n",
       "      <td>95</td>\n",
       "      <td>1.99</td>\n",
       "      <td>189.05</td>\n",
       "    </tr>\n",
       "    <tr>\n",
       "      <th>1</th>\n",
       "      <td>2018-01-23</td>\n",
       "      <td>Central</td>\n",
       "      <td>Kivell</td>\n",
       "      <td>Binder</td>\n",
       "      <td>50</td>\n",
       "      <td>19.99</td>\n",
       "      <td>999.50</td>\n",
       "    </tr>\n",
       "    <tr>\n",
       "      <th>2</th>\n",
       "      <td>2018-02-09</td>\n",
       "      <td>Central</td>\n",
       "      <td>Jardine</td>\n",
       "      <td>Pencil</td>\n",
       "      <td>36</td>\n",
       "      <td>4.99</td>\n",
       "      <td>179.64</td>\n",
       "    </tr>\n",
       "    <tr>\n",
       "      <th>3</th>\n",
       "      <td>2018-02-26</td>\n",
       "      <td>Central</td>\n",
       "      <td>Gill</td>\n",
       "      <td>Pen</td>\n",
       "      <td>27</td>\n",
       "      <td>19.99</td>\n",
       "      <td>539.73</td>\n",
       "    </tr>\n",
       "    <tr>\n",
       "      <th>4</th>\n",
       "      <td>2018-03-15</td>\n",
       "      <td>West</td>\n",
       "      <td>Sorvino</td>\n",
       "      <td>Pencil</td>\n",
       "      <td>56</td>\n",
       "      <td>2.99</td>\n",
       "      <td>167.44</td>\n",
       "    </tr>\n",
       "  </tbody>\n",
       "</table>\n",
       "</div>"
      ],
      "text/plain": [
       "   OrderDate   Region      Rep    Item  Units  Unit Cost   Total\n",
       "0 2018-01-06     East    Jones  Pencil     95       1.99  189.05\n",
       "1 2018-01-23  Central   Kivell  Binder     50      19.99  999.50\n",
       "2 2018-02-09  Central  Jardine  Pencil     36       4.99  179.64\n",
       "3 2018-02-26  Central     Gill     Pen     27      19.99  539.73\n",
       "4 2018-03-15     West  Sorvino  Pencil     56       2.99  167.44"
      ]
     },
     "execution_count": 81,
     "metadata": {},
     "output_type": "execute_result"
    }
   ],
   "source": [
    "df.head()"
   ]
  },
  {
   "cell_type": "code",
   "execution_count": 82,
   "metadata": {},
   "outputs": [
    {
     "data": {
      "text/html": [
       "<div>\n",
       "<style scoped>\n",
       "    .dataframe tbody tr th:only-of-type {\n",
       "        vertical-align: middle;\n",
       "    }\n",
       "\n",
       "    .dataframe tbody tr th {\n",
       "        vertical-align: top;\n",
       "    }\n",
       "\n",
       "    .dataframe thead th {\n",
       "        text-align: right;\n",
       "    }\n",
       "</style>\n",
       "<table border=\"1\" class=\"dataframe\">\n",
       "  <thead>\n",
       "    <tr style=\"text-align: right;\">\n",
       "      <th></th>\n",
       "      <th>Units</th>\n",
       "      <th>Unit Cost</th>\n",
       "      <th>Total</th>\n",
       "    </tr>\n",
       "  </thead>\n",
       "  <tbody>\n",
       "    <tr>\n",
       "      <th>count</th>\n",
       "      <td>43.000000</td>\n",
       "      <td>43.000000</td>\n",
       "      <td>43.000000</td>\n",
       "    </tr>\n",
       "    <tr>\n",
       "      <th>mean</th>\n",
       "      <td>49.325581</td>\n",
       "      <td>20.308605</td>\n",
       "      <td>456.462326</td>\n",
       "    </tr>\n",
       "    <tr>\n",
       "      <th>std</th>\n",
       "      <td>30.078248</td>\n",
       "      <td>47.345118</td>\n",
       "      <td>447.022104</td>\n",
       "    </tr>\n",
       "    <tr>\n",
       "      <th>min</th>\n",
       "      <td>2.000000</td>\n",
       "      <td>1.290000</td>\n",
       "      <td>9.030000</td>\n",
       "    </tr>\n",
       "    <tr>\n",
       "      <th>25%</th>\n",
       "      <td>27.500000</td>\n",
       "      <td>3.990000</td>\n",
       "      <td>144.590000</td>\n",
       "    </tr>\n",
       "    <tr>\n",
       "      <th>50%</th>\n",
       "      <td>53.000000</td>\n",
       "      <td>4.990000</td>\n",
       "      <td>299.400000</td>\n",
       "    </tr>\n",
       "    <tr>\n",
       "      <th>75%</th>\n",
       "      <td>74.500000</td>\n",
       "      <td>17.990000</td>\n",
       "      <td>600.180000</td>\n",
       "    </tr>\n",
       "    <tr>\n",
       "      <th>max</th>\n",
       "      <td>96.000000</td>\n",
       "      <td>275.000000</td>\n",
       "      <td>1879.060000</td>\n",
       "    </tr>\n",
       "  </tbody>\n",
       "</table>\n",
       "</div>"
      ],
      "text/plain": [
       "           Units   Unit Cost        Total\n",
       "count  43.000000   43.000000    43.000000\n",
       "mean   49.325581   20.308605   456.462326\n",
       "std    30.078248   47.345118   447.022104\n",
       "min     2.000000    1.290000     9.030000\n",
       "25%    27.500000    3.990000   144.590000\n",
       "50%    53.000000    4.990000   299.400000\n",
       "75%    74.500000   17.990000   600.180000\n",
       "max    96.000000  275.000000  1879.060000"
      ]
     },
     "execution_count": 82,
     "metadata": {},
     "output_type": "execute_result"
    }
   ],
   "source": [
    "df.describe()"
   ]
  },
  {
   "cell_type": "code",
   "execution_count": 84,
   "metadata": {},
   "outputs": [
    {
     "data": {
      "text/plain": [
       "Index(['OrderDate', 'Region', 'Rep', 'Item', 'Units', 'Unit Cost', 'Total'], dtype='object')"
      ]
     },
     "execution_count": 84,
     "metadata": {},
     "output_type": "execute_result"
    }
   ],
   "source": [
    "# all columns of this data frame\n",
    "df.columns"
   ]
  },
  {
   "cell_type": "code",
   "execution_count": 85,
   "metadata": {},
   "outputs": [
    {
     "data": {
      "text/html": [
       "<div>\n",
       "<style scoped>\n",
       "    .dataframe tbody tr th:only-of-type {\n",
       "        vertical-align: middle;\n",
       "    }\n",
       "\n",
       "    .dataframe tbody tr th {\n",
       "        vertical-align: top;\n",
       "    }\n",
       "\n",
       "    .dataframe thead th {\n",
       "        text-align: right;\n",
       "    }\n",
       "</style>\n",
       "<table border=\"1\" class=\"dataframe\">\n",
       "  <thead>\n",
       "    <tr style=\"text-align: right;\">\n",
       "      <th></th>\n",
       "      <th>OrderDate</th>\n",
       "      <th>Region</th>\n",
       "      <th>Rep</th>\n",
       "      <th>Item</th>\n",
       "      <th>Units</th>\n",
       "      <th>Unit Cost</th>\n",
       "      <th>Total</th>\n",
       "    </tr>\n",
       "  </thead>\n",
       "  <tbody>\n",
       "    <tr>\n",
       "      <th>0</th>\n",
       "      <td>2018-01-06</td>\n",
       "      <td>East</td>\n",
       "      <td>Jones</td>\n",
       "      <td>Pencil</td>\n",
       "      <td>95</td>\n",
       "      <td>1.99</td>\n",
       "      <td>189.05</td>\n",
       "    </tr>\n",
       "    <tr>\n",
       "      <th>1</th>\n",
       "      <td>2018-01-23</td>\n",
       "      <td>Central</td>\n",
       "      <td>Kivell</td>\n",
       "      <td>Binder</td>\n",
       "      <td>50</td>\n",
       "      <td>19.99</td>\n",
       "      <td>999.50</td>\n",
       "    </tr>\n",
       "    <tr>\n",
       "      <th>2</th>\n",
       "      <td>2018-02-09</td>\n",
       "      <td>Central</td>\n",
       "      <td>Jardine</td>\n",
       "      <td>Pencil</td>\n",
       "      <td>36</td>\n",
       "      <td>4.99</td>\n",
       "      <td>179.64</td>\n",
       "    </tr>\n",
       "    <tr>\n",
       "      <th>3</th>\n",
       "      <td>2018-02-26</td>\n",
       "      <td>Central</td>\n",
       "      <td>Gill</td>\n",
       "      <td>Pen</td>\n",
       "      <td>27</td>\n",
       "      <td>19.99</td>\n",
       "      <td>539.73</td>\n",
       "    </tr>\n",
       "    <tr>\n",
       "      <th>4</th>\n",
       "      <td>2018-03-15</td>\n",
       "      <td>West</td>\n",
       "      <td>Sorvino</td>\n",
       "      <td>Pencil</td>\n",
       "      <td>56</td>\n",
       "      <td>2.99</td>\n",
       "      <td>167.44</td>\n",
       "    </tr>\n",
       "  </tbody>\n",
       "</table>\n",
       "</div>"
      ],
      "text/plain": [
       "   OrderDate   Region      Rep    Item  Units  Unit Cost   Total\n",
       "0 2018-01-06     East    Jones  Pencil     95       1.99  189.05\n",
       "1 2018-01-23  Central   Kivell  Binder     50      19.99  999.50\n",
       "2 2018-02-09  Central  Jardine  Pencil     36       4.99  179.64\n",
       "3 2018-02-26  Central     Gill     Pen     27      19.99  539.73\n",
       "4 2018-03-15     West  Sorvino  Pencil     56       2.99  167.44"
      ]
     },
     "execution_count": 85,
     "metadata": {},
     "output_type": "execute_result"
    }
   ],
   "source": [
    "df.head()"
   ]
  },
  {
   "cell_type": "code",
   "execution_count": 87,
   "metadata": {},
   "outputs": [
    {
     "data": {
      "text/plain": [
       "50"
      ]
     },
     "execution_count": 87,
     "metadata": {},
     "output_type": "execute_result"
    }
   ],
   "source": [
    "# Locations\n",
    "# iloc : access with row index and column index\n",
    "df.iloc[1][4]"
   ]
  },
  {
   "cell_type": "code",
   "execution_count": 89,
   "metadata": {},
   "outputs": [
    {
     "data": {
      "text/plain": [
       "50"
      ]
     },
     "execution_count": 89,
     "metadata": {},
     "output_type": "execute_result"
    }
   ],
   "source": [
    "df.loc[1]['Units']"
   ]
  },
  {
   "cell_type": "code",
   "execution_count": 101,
   "metadata": {},
   "outputs": [
    {
     "data": {
      "text/html": [
       "<div>\n",
       "<style scoped>\n",
       "    .dataframe tbody tr th:only-of-type {\n",
       "        vertical-align: middle;\n",
       "    }\n",
       "\n",
       "    .dataframe tbody tr th {\n",
       "        vertical-align: top;\n",
       "    }\n",
       "\n",
       "    .dataframe thead th {\n",
       "        text-align: right;\n",
       "    }\n",
       "</style>\n",
       "<table border=\"1\" class=\"dataframe\">\n",
       "  <thead>\n",
       "    <tr style=\"text-align: right;\">\n",
       "      <th></th>\n",
       "      <th>OrderDate</th>\n",
       "      <th>Region</th>\n",
       "      <th>Rep</th>\n",
       "      <th>Item</th>\n",
       "      <th>Units</th>\n",
       "      <th>Unit Cost</th>\n",
       "      <th>Total</th>\n",
       "    </tr>\n",
       "  </thead>\n",
       "  <tbody>\n",
       "    <tr>\n",
       "      <th>0</th>\n",
       "      <td>2018-01-06</td>\n",
       "      <td>East</td>\n",
       "      <td>Jones</td>\n",
       "      <td>Pencil</td>\n",
       "      <td>95</td>\n",
       "      <td>1.99</td>\n",
       "      <td>189.05</td>\n",
       "    </tr>\n",
       "    <tr>\n",
       "      <th>1</th>\n",
       "      <td>2018-01-23</td>\n",
       "      <td>Central</td>\n",
       "      <td>Kivell</td>\n",
       "      <td>Binder</td>\n",
       "      <td>50</td>\n",
       "      <td>19.99</td>\n",
       "      <td>999.50</td>\n",
       "    </tr>\n",
       "    <tr>\n",
       "      <th>2</th>\n",
       "      <td>2018-02-09</td>\n",
       "      <td>Central</td>\n",
       "      <td>Jardine</td>\n",
       "      <td>Pencil</td>\n",
       "      <td>36</td>\n",
       "      <td>4.99</td>\n",
       "      <td>179.64</td>\n",
       "    </tr>\n",
       "    <tr>\n",
       "      <th>3</th>\n",
       "      <td>2018-02-26</td>\n",
       "      <td>Central</td>\n",
       "      <td>Gill</td>\n",
       "      <td>Pen</td>\n",
       "      <td>27</td>\n",
       "      <td>19.99</td>\n",
       "      <td>539.73</td>\n",
       "    </tr>\n",
       "    <tr>\n",
       "      <th>4</th>\n",
       "      <td>2018-03-15</td>\n",
       "      <td>West</td>\n",
       "      <td>Sorvino</td>\n",
       "      <td>Pencil</td>\n",
       "      <td>56</td>\n",
       "      <td>2.99</td>\n",
       "      <td>167.44</td>\n",
       "    </tr>\n",
       "    <tr>\n",
       "      <th>5</th>\n",
       "      <td>2018-04-01</td>\n",
       "      <td>East</td>\n",
       "      <td>Jones</td>\n",
       "      <td>Binder</td>\n",
       "      <td>60</td>\n",
       "      <td>4.99</td>\n",
       "      <td>299.40</td>\n",
       "    </tr>\n",
       "    <tr>\n",
       "      <th>6</th>\n",
       "      <td>2018-04-18</td>\n",
       "      <td>Central</td>\n",
       "      <td>Andrews</td>\n",
       "      <td>Pencil</td>\n",
       "      <td>75</td>\n",
       "      <td>1.99</td>\n",
       "      <td>149.25</td>\n",
       "    </tr>\n",
       "    <tr>\n",
       "      <th>7</th>\n",
       "      <td>2018-05-05</td>\n",
       "      <td>Central</td>\n",
       "      <td>Jardine</td>\n",
       "      <td>Pencil</td>\n",
       "      <td>90</td>\n",
       "      <td>4.99</td>\n",
       "      <td>449.10</td>\n",
       "    </tr>\n",
       "    <tr>\n",
       "      <th>8</th>\n",
       "      <td>2018-05-22</td>\n",
       "      <td>West</td>\n",
       "      <td>Thompson</td>\n",
       "      <td>Pencil</td>\n",
       "      <td>32</td>\n",
       "      <td>1.99</td>\n",
       "      <td>63.68</td>\n",
       "    </tr>\n",
       "    <tr>\n",
       "      <th>9</th>\n",
       "      <td>2018-06-08</td>\n",
       "      <td>East</td>\n",
       "      <td>Jones</td>\n",
       "      <td>Binder</td>\n",
       "      <td>60</td>\n",
       "      <td>8.99</td>\n",
       "      <td>539.40</td>\n",
       "    </tr>\n",
       "    <tr>\n",
       "      <th>10</th>\n",
       "      <td>2018-06-25</td>\n",
       "      <td>Central</td>\n",
       "      <td>Morgan</td>\n",
       "      <td>Pencil</td>\n",
       "      <td>90</td>\n",
       "      <td>4.99</td>\n",
       "      <td>449.10</td>\n",
       "    </tr>\n",
       "    <tr>\n",
       "      <th>11</th>\n",
       "      <td>2018-07-12</td>\n",
       "      <td>East</td>\n",
       "      <td>Howard</td>\n",
       "      <td>Binder</td>\n",
       "      <td>29</td>\n",
       "      <td>1.99</td>\n",
       "      <td>57.71</td>\n",
       "    </tr>\n",
       "    <tr>\n",
       "      <th>12</th>\n",
       "      <td>2018-07-29</td>\n",
       "      <td>East</td>\n",
       "      <td>Parent</td>\n",
       "      <td>Binder</td>\n",
       "      <td>81</td>\n",
       "      <td>19.99</td>\n",
       "      <td>1619.19</td>\n",
       "    </tr>\n",
       "    <tr>\n",
       "      <th>13</th>\n",
       "      <td>2018-08-15</td>\n",
       "      <td>East</td>\n",
       "      <td>Jones</td>\n",
       "      <td>Pencil</td>\n",
       "      <td>35</td>\n",
       "      <td>4.99</td>\n",
       "      <td>174.65</td>\n",
       "    </tr>\n",
       "    <tr>\n",
       "      <th>14</th>\n",
       "      <td>2018-09-01</td>\n",
       "      <td>Central</td>\n",
       "      <td>Smith</td>\n",
       "      <td>Desk</td>\n",
       "      <td>2</td>\n",
       "      <td>125.00</td>\n",
       "      <td>250.00</td>\n",
       "    </tr>\n",
       "    <tr>\n",
       "      <th>15</th>\n",
       "      <td>2018-09-18</td>\n",
       "      <td>East</td>\n",
       "      <td>Jones</td>\n",
       "      <td>Pen Set</td>\n",
       "      <td>16</td>\n",
       "      <td>15.99</td>\n",
       "      <td>255.84</td>\n",
       "    </tr>\n",
       "    <tr>\n",
       "      <th>16</th>\n",
       "      <td>2018-10-05</td>\n",
       "      <td>Central</td>\n",
       "      <td>Morgan</td>\n",
       "      <td>Binder</td>\n",
       "      <td>28</td>\n",
       "      <td>8.99</td>\n",
       "      <td>251.72</td>\n",
       "    </tr>\n",
       "    <tr>\n",
       "      <th>17</th>\n",
       "      <td>2018-10-22</td>\n",
       "      <td>East</td>\n",
       "      <td>Jones</td>\n",
       "      <td>Pen</td>\n",
       "      <td>64</td>\n",
       "      <td>8.99</td>\n",
       "      <td>575.36</td>\n",
       "    </tr>\n",
       "    <tr>\n",
       "      <th>18</th>\n",
       "      <td>2018-11-08</td>\n",
       "      <td>East</td>\n",
       "      <td>Parent</td>\n",
       "      <td>Pen</td>\n",
       "      <td>15</td>\n",
       "      <td>19.99</td>\n",
       "      <td>299.85</td>\n",
       "    </tr>\n",
       "    <tr>\n",
       "      <th>19</th>\n",
       "      <td>2018-11-25</td>\n",
       "      <td>Central</td>\n",
       "      <td>Kivell</td>\n",
       "      <td>Pen Set</td>\n",
       "      <td>96</td>\n",
       "      <td>4.99</td>\n",
       "      <td>479.04</td>\n",
       "    </tr>\n",
       "    <tr>\n",
       "      <th>20</th>\n",
       "      <td>2018-12-12</td>\n",
       "      <td>Central</td>\n",
       "      <td>Smith</td>\n",
       "      <td>Pencil</td>\n",
       "      <td>67</td>\n",
       "      <td>1.29</td>\n",
       "      <td>86.43</td>\n",
       "    </tr>\n",
       "    <tr>\n",
       "      <th>21</th>\n",
       "      <td>2018-12-29</td>\n",
       "      <td>East</td>\n",
       "      <td>Parent</td>\n",
       "      <td>Pen Set</td>\n",
       "      <td>74</td>\n",
       "      <td>15.99</td>\n",
       "      <td>1183.26</td>\n",
       "    </tr>\n",
       "    <tr>\n",
       "      <th>22</th>\n",
       "      <td>2019-01-15</td>\n",
       "      <td>Central</td>\n",
       "      <td>Gill</td>\n",
       "      <td>Binder</td>\n",
       "      <td>46</td>\n",
       "      <td>8.99</td>\n",
       "      <td>413.54</td>\n",
       "    </tr>\n",
       "    <tr>\n",
       "      <th>23</th>\n",
       "      <td>2019-02-01</td>\n",
       "      <td>Central</td>\n",
       "      <td>Smith</td>\n",
       "      <td>Binder</td>\n",
       "      <td>87</td>\n",
       "      <td>15.00</td>\n",
       "      <td>1305.00</td>\n",
       "    </tr>\n",
       "    <tr>\n",
       "      <th>24</th>\n",
       "      <td>2019-02-18</td>\n",
       "      <td>East</td>\n",
       "      <td>Jones</td>\n",
       "      <td>Binder</td>\n",
       "      <td>4</td>\n",
       "      <td>4.99</td>\n",
       "      <td>19.96</td>\n",
       "    </tr>\n",
       "    <tr>\n",
       "      <th>25</th>\n",
       "      <td>2019-03-07</td>\n",
       "      <td>West</td>\n",
       "      <td>Sorvino</td>\n",
       "      <td>Binder</td>\n",
       "      <td>7</td>\n",
       "      <td>19.99</td>\n",
       "      <td>139.93</td>\n",
       "    </tr>\n",
       "    <tr>\n",
       "      <th>26</th>\n",
       "      <td>2019-03-24</td>\n",
       "      <td>Central</td>\n",
       "      <td>Jardine</td>\n",
       "      <td>Pen Set</td>\n",
       "      <td>50</td>\n",
       "      <td>4.99</td>\n",
       "      <td>249.50</td>\n",
       "    </tr>\n",
       "    <tr>\n",
       "      <th>27</th>\n",
       "      <td>2019-04-10</td>\n",
       "      <td>Central</td>\n",
       "      <td>Andrews</td>\n",
       "      <td>Pencil</td>\n",
       "      <td>66</td>\n",
       "      <td>1.99</td>\n",
       "      <td>131.34</td>\n",
       "    </tr>\n",
       "    <tr>\n",
       "      <th>28</th>\n",
       "      <td>2019-04-27</td>\n",
       "      <td>East</td>\n",
       "      <td>Howard</td>\n",
       "      <td>Pen</td>\n",
       "      <td>96</td>\n",
       "      <td>4.99</td>\n",
       "      <td>479.04</td>\n",
       "    </tr>\n",
       "    <tr>\n",
       "      <th>29</th>\n",
       "      <td>2019-05-14</td>\n",
       "      <td>Central</td>\n",
       "      <td>Gill</td>\n",
       "      <td>Pencil</td>\n",
       "      <td>53</td>\n",
       "      <td>1.29</td>\n",
       "      <td>68.37</td>\n",
       "    </tr>\n",
       "    <tr>\n",
       "      <th>30</th>\n",
       "      <td>2019-05-31</td>\n",
       "      <td>Central</td>\n",
       "      <td>Gill</td>\n",
       "      <td>Binder</td>\n",
       "      <td>80</td>\n",
       "      <td>8.99</td>\n",
       "      <td>719.20</td>\n",
       "    </tr>\n",
       "    <tr>\n",
       "      <th>31</th>\n",
       "      <td>2019-06-17</td>\n",
       "      <td>Central</td>\n",
       "      <td>Kivell</td>\n",
       "      <td>Desk</td>\n",
       "      <td>5</td>\n",
       "      <td>125.00</td>\n",
       "      <td>625.00</td>\n",
       "    </tr>\n",
       "    <tr>\n",
       "      <th>32</th>\n",
       "      <td>2019-07-04</td>\n",
       "      <td>East</td>\n",
       "      <td>Jones</td>\n",
       "      <td>Pen Set</td>\n",
       "      <td>62</td>\n",
       "      <td>4.99</td>\n",
       "      <td>309.38</td>\n",
       "    </tr>\n",
       "    <tr>\n",
       "      <th>33</th>\n",
       "      <td>2019-07-21</td>\n",
       "      <td>Central</td>\n",
       "      <td>Morgan</td>\n",
       "      <td>Pen Set</td>\n",
       "      <td>55</td>\n",
       "      <td>12.49</td>\n",
       "      <td>686.95</td>\n",
       "    </tr>\n",
       "    <tr>\n",
       "      <th>34</th>\n",
       "      <td>2019-08-07</td>\n",
       "      <td>Central</td>\n",
       "      <td>Kivell</td>\n",
       "      <td>Pen Set</td>\n",
       "      <td>42</td>\n",
       "      <td>23.95</td>\n",
       "      <td>1005.90</td>\n",
       "    </tr>\n",
       "    <tr>\n",
       "      <th>35</th>\n",
       "      <td>2019-08-24</td>\n",
       "      <td>West</td>\n",
       "      <td>Sorvino</td>\n",
       "      <td>Desk</td>\n",
       "      <td>3</td>\n",
       "      <td>275.00</td>\n",
       "      <td>825.00</td>\n",
       "    </tr>\n",
       "    <tr>\n",
       "      <th>36</th>\n",
       "      <td>2019-09-10</td>\n",
       "      <td>Central</td>\n",
       "      <td>Gill</td>\n",
       "      <td>Pencil</td>\n",
       "      <td>7</td>\n",
       "      <td>1.29</td>\n",
       "      <td>9.03</td>\n",
       "    </tr>\n",
       "    <tr>\n",
       "      <th>37</th>\n",
       "      <td>2019-09-27</td>\n",
       "      <td>West</td>\n",
       "      <td>Sorvino</td>\n",
       "      <td>Pen</td>\n",
       "      <td>76</td>\n",
       "      <td>1.99</td>\n",
       "      <td>151.24</td>\n",
       "    </tr>\n",
       "    <tr>\n",
       "      <th>38</th>\n",
       "      <td>2019-10-14</td>\n",
       "      <td>West</td>\n",
       "      <td>Thompson</td>\n",
       "      <td>Binder</td>\n",
       "      <td>57</td>\n",
       "      <td>19.99</td>\n",
       "      <td>1139.43</td>\n",
       "    </tr>\n",
       "    <tr>\n",
       "      <th>39</th>\n",
       "      <td>2019-10-31</td>\n",
       "      <td>Central</td>\n",
       "      <td>Andrews</td>\n",
       "      <td>Pencil</td>\n",
       "      <td>14</td>\n",
       "      <td>1.29</td>\n",
       "      <td>18.06</td>\n",
       "    </tr>\n",
       "    <tr>\n",
       "      <th>40</th>\n",
       "      <td>2019-11-17</td>\n",
       "      <td>Central</td>\n",
       "      <td>Jardine</td>\n",
       "      <td>Binder</td>\n",
       "      <td>11</td>\n",
       "      <td>4.99</td>\n",
       "      <td>54.89</td>\n",
       "    </tr>\n",
       "    <tr>\n",
       "      <th>41</th>\n",
       "      <td>2019-12-04</td>\n",
       "      <td>Central</td>\n",
       "      <td>Jardine</td>\n",
       "      <td>Binder</td>\n",
       "      <td>94</td>\n",
       "      <td>19.99</td>\n",
       "      <td>1879.06</td>\n",
       "    </tr>\n",
       "    <tr>\n",
       "      <th>42</th>\n",
       "      <td>2019-12-21</td>\n",
       "      <td>Central</td>\n",
       "      <td>Andrews</td>\n",
       "      <td>Binder</td>\n",
       "      <td>28</td>\n",
       "      <td>4.99</td>\n",
       "      <td>139.72</td>\n",
       "    </tr>\n",
       "  </tbody>\n",
       "</table>\n",
       "</div>"
      ],
      "text/plain": [
       "    OrderDate   Region       Rep     Item  Units  Unit Cost    Total\n",
       "0  2018-01-06     East     Jones   Pencil     95       1.99   189.05\n",
       "1  2018-01-23  Central    Kivell   Binder     50      19.99   999.50\n",
       "2  2018-02-09  Central   Jardine   Pencil     36       4.99   179.64\n",
       "3  2018-02-26  Central      Gill      Pen     27      19.99   539.73\n",
       "4  2018-03-15     West   Sorvino   Pencil     56       2.99   167.44\n",
       "5  2018-04-01     East     Jones   Binder     60       4.99   299.40\n",
       "6  2018-04-18  Central   Andrews   Pencil     75       1.99   149.25\n",
       "7  2018-05-05  Central   Jardine   Pencil     90       4.99   449.10\n",
       "8  2018-05-22     West  Thompson   Pencil     32       1.99    63.68\n",
       "9  2018-06-08     East     Jones   Binder     60       8.99   539.40\n",
       "10 2018-06-25  Central    Morgan   Pencil     90       4.99   449.10\n",
       "11 2018-07-12     East    Howard   Binder     29       1.99    57.71\n",
       "12 2018-07-29     East    Parent   Binder     81      19.99  1619.19\n",
       "13 2018-08-15     East     Jones   Pencil     35       4.99   174.65\n",
       "14 2018-09-01  Central     Smith     Desk      2     125.00   250.00\n",
       "15 2018-09-18     East     Jones  Pen Set     16      15.99   255.84\n",
       "16 2018-10-05  Central    Morgan   Binder     28       8.99   251.72\n",
       "17 2018-10-22     East     Jones      Pen     64       8.99   575.36\n",
       "18 2018-11-08     East    Parent      Pen     15      19.99   299.85\n",
       "19 2018-11-25  Central    Kivell  Pen Set     96       4.99   479.04\n",
       "20 2018-12-12  Central     Smith   Pencil     67       1.29    86.43\n",
       "21 2018-12-29     East    Parent  Pen Set     74      15.99  1183.26\n",
       "22 2019-01-15  Central      Gill   Binder     46       8.99   413.54\n",
       "23 2019-02-01  Central     Smith   Binder     87      15.00  1305.00\n",
       "24 2019-02-18     East     Jones   Binder      4       4.99    19.96\n",
       "25 2019-03-07     West   Sorvino   Binder      7      19.99   139.93\n",
       "26 2019-03-24  Central   Jardine  Pen Set     50       4.99   249.50\n",
       "27 2019-04-10  Central   Andrews   Pencil     66       1.99   131.34\n",
       "28 2019-04-27     East    Howard      Pen     96       4.99   479.04\n",
       "29 2019-05-14  Central      Gill   Pencil     53       1.29    68.37\n",
       "30 2019-05-31  Central      Gill   Binder     80       8.99   719.20\n",
       "31 2019-06-17  Central    Kivell     Desk      5     125.00   625.00\n",
       "32 2019-07-04     East     Jones  Pen Set     62       4.99   309.38\n",
       "33 2019-07-21  Central    Morgan  Pen Set     55      12.49   686.95\n",
       "34 2019-08-07  Central    Kivell  Pen Set     42      23.95  1005.90\n",
       "35 2019-08-24     West   Sorvino     Desk      3     275.00   825.00\n",
       "36 2019-09-10  Central      Gill   Pencil      7       1.29     9.03\n",
       "37 2019-09-27     West   Sorvino      Pen     76       1.99   151.24\n",
       "38 2019-10-14     West  Thompson   Binder     57      19.99  1139.43\n",
       "39 2019-10-31  Central   Andrews   Pencil     14       1.29    18.06\n",
       "40 2019-11-17  Central   Jardine   Binder     11       4.99    54.89\n",
       "41 2019-12-04  Central   Jardine   Binder     94      19.99  1879.06\n",
       "42 2019-12-21  Central   Andrews   Binder     28       4.99   139.72"
      ]
     },
     "execution_count": 101,
     "metadata": {},
     "output_type": "execute_result"
    }
   ],
   "source": [
    "df"
   ]
  },
  {
   "cell_type": "code",
   "execution_count": 105,
   "metadata": {},
   "outputs": [],
   "source": [
    "df2 = df.set_index('Rep')"
   ]
  },
  {
   "cell_type": "code",
   "execution_count": 106,
   "metadata": {},
   "outputs": [
    {
     "data": {
      "text/html": [
       "<div>\n",
       "<style scoped>\n",
       "    .dataframe tbody tr th:only-of-type {\n",
       "        vertical-align: middle;\n",
       "    }\n",
       "\n",
       "    .dataframe tbody tr th {\n",
       "        vertical-align: top;\n",
       "    }\n",
       "\n",
       "    .dataframe thead th {\n",
       "        text-align: right;\n",
       "    }\n",
       "</style>\n",
       "<table border=\"1\" class=\"dataframe\">\n",
       "  <thead>\n",
       "    <tr style=\"text-align: right;\">\n",
       "      <th></th>\n",
       "      <th>OrderDate</th>\n",
       "      <th>Region</th>\n",
       "      <th>Item</th>\n",
       "      <th>Units</th>\n",
       "      <th>Unit Cost</th>\n",
       "      <th>Total</th>\n",
       "    </tr>\n",
       "    <tr>\n",
       "      <th>Rep</th>\n",
       "      <th></th>\n",
       "      <th></th>\n",
       "      <th></th>\n",
       "      <th></th>\n",
       "      <th></th>\n",
       "      <th></th>\n",
       "    </tr>\n",
       "  </thead>\n",
       "  <tbody>\n",
       "    <tr>\n",
       "      <th>Jones</th>\n",
       "      <td>2018-01-06</td>\n",
       "      <td>East</td>\n",
       "      <td>Pencil</td>\n",
       "      <td>95</td>\n",
       "      <td>1.99</td>\n",
       "      <td>189.05</td>\n",
       "    </tr>\n",
       "    <tr>\n",
       "      <th>Kivell</th>\n",
       "      <td>2018-01-23</td>\n",
       "      <td>Central</td>\n",
       "      <td>Binder</td>\n",
       "      <td>50</td>\n",
       "      <td>19.99</td>\n",
       "      <td>999.50</td>\n",
       "    </tr>\n",
       "    <tr>\n",
       "      <th>Jardine</th>\n",
       "      <td>2018-02-09</td>\n",
       "      <td>Central</td>\n",
       "      <td>Pencil</td>\n",
       "      <td>36</td>\n",
       "      <td>4.99</td>\n",
       "      <td>179.64</td>\n",
       "    </tr>\n",
       "    <tr>\n",
       "      <th>Gill</th>\n",
       "      <td>2018-02-26</td>\n",
       "      <td>Central</td>\n",
       "      <td>Pen</td>\n",
       "      <td>27</td>\n",
       "      <td>19.99</td>\n",
       "      <td>539.73</td>\n",
       "    </tr>\n",
       "    <tr>\n",
       "      <th>Sorvino</th>\n",
       "      <td>2018-03-15</td>\n",
       "      <td>West</td>\n",
       "      <td>Pencil</td>\n",
       "      <td>56</td>\n",
       "      <td>2.99</td>\n",
       "      <td>167.44</td>\n",
       "    </tr>\n",
       "  </tbody>\n",
       "</table>\n",
       "</div>"
      ],
      "text/plain": [
       "         OrderDate   Region    Item  Units  Unit Cost   Total\n",
       "Rep                                                          \n",
       "Jones   2018-01-06     East  Pencil     95       1.99  189.05\n",
       "Kivell  2018-01-23  Central  Binder     50      19.99  999.50\n",
       "Jardine 2018-02-09  Central  Pencil     36       4.99  179.64\n",
       "Gill    2018-02-26  Central     Pen     27      19.99  539.73\n",
       "Sorvino 2018-03-15     West  Pencil     56       2.99  167.44"
      ]
     },
     "execution_count": 106,
     "metadata": {},
     "output_type": "execute_result"
    }
   ],
   "source": [
    "df2.head()"
   ]
  },
  {
   "cell_type": "code",
   "execution_count": 107,
   "metadata": {},
   "outputs": [
    {
     "data": {
      "text/plain": [
       "Rep\n",
       "Jones     Pencil\n",
       "Jones     Binder\n",
       "Jones     Binder\n",
       "Jones     Pencil\n",
       "Jones    Pen Set\n",
       "Jones        Pen\n",
       "Jones     Binder\n",
       "Jones    Pen Set\n",
       "Name: Item, dtype: object"
      ]
     },
     "execution_count": 107,
     "metadata": {},
     "output_type": "execute_result"
    }
   ],
   "source": [
    "df2.loc['Jones']['Item']"
   ]
  },
  {
   "cell_type": "code",
   "execution_count": 111,
   "metadata": {},
   "outputs": [
    {
     "data": {
      "text/plain": [
       "Rep\n",
       "Sorvino    Pencil\n",
       "Jones      Binder\n",
       "Name: Item, dtype: object"
      ]
     },
     "execution_count": 111,
     "metadata": {},
     "output_type": "execute_result"
    }
   ],
   "source": [
    "df2.iloc[4:6]['Item']"
   ]
  },
  {
   "cell_type": "code",
   "execution_count": 115,
   "metadata": {},
   "outputs": [],
   "source": [
    "result = df2.loc['Jones']['Total']"
   ]
  },
  {
   "cell_type": "code",
   "execution_count": 117,
   "metadata": {},
   "outputs": [
    {
     "data": {
      "text/plain": [
       "(8,)"
      ]
     },
     "execution_count": 117,
     "metadata": {},
     "output_type": "execute_result"
    }
   ],
   "source": [
    "result.shape"
   ]
  },
  {
   "cell_type": "code",
   "execution_count": 120,
   "metadata": {},
   "outputs": [
    {
     "data": {
      "text/plain": [
       "2363.04"
      ]
     },
     "execution_count": 120,
     "metadata": {},
     "output_type": "execute_result"
    }
   ],
   "source": [
    "sum(result)"
   ]
  },
  {
   "cell_type": "code",
   "execution_count": 124,
   "metadata": {},
   "outputs": [],
   "source": [
    "my_list = [1,2,4,5,6,7,3,3]"
   ]
  },
  {
   "cell_type": "code",
   "execution_count": 125,
   "metadata": {},
   "outputs": [
    {
     "data": {
      "text/plain": [
       "31"
      ]
     },
     "execution_count": 125,
     "metadata": {},
     "output_type": "execute_result"
    }
   ],
   "source": [
    "sum(my_list)"
   ]
  },
  {
   "cell_type": "code",
   "execution_count": 126,
   "metadata": {},
   "outputs": [
    {
     "data": {
      "text/plain": [
       "pandas.core.series.Series"
      ]
     },
     "execution_count": 126,
     "metadata": {},
     "output_type": "execute_result"
    }
   ],
   "source": [
    "type(result)"
   ]
  },
  {
   "cell_type": "code",
   "execution_count": 128,
   "metadata": {},
   "outputs": [
    {
     "data": {
      "text/plain": [
       "2363.04"
      ]
     },
     "execution_count": 128,
     "metadata": {},
     "output_type": "execute_result"
    }
   ],
   "source": [
    "sum(df2.loc['Jones']['Total'])"
   ]
  },
  {
   "cell_type": "code",
   "execution_count": 129,
   "metadata": {},
   "outputs": [],
   "source": [
    "class SalesOrders:\n",
    "    def __init__(self, od, rg, rp, i, u, uc, t):\n",
    "        self.order_date = od\n",
    "        self.region     = rg\n",
    "        self.rep        = rp\n",
    "        self.item       = i\n",
    "        self.units      = u\n",
    "        self.unit_cost  = uc\n",
    "        self.total      = t"
   ]
  },
  {
   "cell_type": "code",
   "execution_count": 130,
   "metadata": {},
   "outputs": [],
   "source": [
    "df = pd.read_excel(\"SampleData.xlsx\", sheet_name=\"SalesOrders\")"
   ]
  },
  {
   "cell_type": "code",
   "execution_count": 133,
   "metadata": {},
   "outputs": [
    {
     "data": {
      "text/plain": [
       "'/Users/unmesh/Unicorn'"
      ]
     },
     "execution_count": 133,
     "metadata": {},
     "output_type": "execute_result"
    }
   ],
   "source": [
    "pwd"
   ]
  },
  {
   "cell_type": "code",
   "execution_count": 131,
   "metadata": {},
   "outputs": [
    {
     "data": {
      "text/plain": [
       "43"
      ]
     },
     "execution_count": 131,
     "metadata": {},
     "output_type": "execute_result"
    }
   ],
   "source": [
    "len(df)"
   ]
  },
  {
   "cell_type": "code",
   "execution_count": 134,
   "metadata": {},
   "outputs": [
    {
     "data": {
      "text/plain": [
       "Index(['OrderDate', 'Region', 'Rep', 'Item', 'Units', 'Unit Cost', 'Total'], dtype='object')"
      ]
     },
     "execution_count": 134,
     "metadata": {},
     "output_type": "execute_result"
    }
   ],
   "source": [
    "df.columns"
   ]
  },
  {
   "cell_type": "code",
   "execution_count": 143,
   "metadata": {},
   "outputs": [],
   "source": [
    "# populate the list of columns\n",
    "cols = df.columns\n",
    "# run the loop 43 times (0 to 42)\n",
    "sales_orders = []\n",
    "for i in range(len(df)):\n",
    "    attributes = []\n",
    "    temp_order_date = None\n",
    "    temp_region = None\n",
    "    for c in cols:\n",
    "        attributes.append(df.iloc[i][c])\n",
    "    # Expand the list of attributes that contain\n",
    "    # all column values and call constructor of class SalesOrders\n",
    "    sales_order_row = SalesOrders(*attributes)\n",
    "    sales_orders.append(sales_order_row)\n",
    "    "
   ]
  },
  {
   "cell_type": "code",
   "execution_count": 138,
   "metadata": {},
   "outputs": [
    {
     "data": {
      "text/plain": [
       "'Kivell'"
      ]
     },
     "execution_count": 138,
     "metadata": {},
     "output_type": "execute_result"
    }
   ],
   "source": [
    "sales_orders[1].rep"
   ]
  },
  {
   "cell_type": "code",
   "execution_count": 142,
   "metadata": {},
   "outputs": [
    {
     "data": {
      "text/plain": [
       "'East'"
      ]
     },
     "execution_count": 142,
     "metadata": {},
     "output_type": "execute_result"
    }
   ],
   "source": [
    "sales_orders[0].region"
   ]
  },
  {
   "cell_type": "code",
   "execution_count": 146,
   "metadata": {},
   "outputs": [
    {
     "name": "stdout",
     "output_type": "stream",
     "text": [
      "total pencil sale by Jones 363.7\n"
     ]
    }
   ],
   "source": [
    "'''\n",
    "Code to find out the total sale\n",
    "of the item pencil by the Sales\n",
    "Representative Jones\n",
    "'''\n",
    "total_pencil_sale = 0\n",
    "for row in range(len(sales_orders)):\n",
    "    person = sales_orders[row].rep\n",
    "    item   = sales_orders[row].item\n",
    "    if person == \"Jones\" and  item ==  \"Pencil\":\n",
    "        total_pencil_sale += sales_orders[row].total\n",
    "        \n",
    "print(\"total pencil sale by Jones\", total_pencil_sale.round(2))"
   ]
  },
  {
   "cell_type": "code",
   "execution_count": 167,
   "metadata": {},
   "outputs": [],
   "source": [
    "def total_sale_by_person_item(person, item):\n",
    "    total_sale = 0\n",
    "    for row in range(len(sales_orders)):\n",
    "        row_person = sales_orders[row].rep\n",
    "        row_item   = sales_orders[row].item\n",
    "        if row_person == person and  row_item ==  item:\n",
    "            total_sale += sales_orders[row].total\n",
    "\n",
    "    print(\"Total \" + item + \" sale by \" + person, total_sale.round(2))"
   ]
  },
  {
   "cell_type": "code",
   "execution_count": 168,
   "metadata": {},
   "outputs": [
    {
     "name": "stdout",
     "output_type": "stream",
     "text": [
      "Total Pencil sale by Jones 363.7\n"
     ]
    }
   ],
   "source": [
    "total_sale_by_person_item(\"Jones\", \"Pencil\")"
   ]
  },
  {
   "cell_type": "code",
   "execution_count": 169,
   "metadata": {},
   "outputs": [
    {
     "name": "stdout",
     "output_type": "stream",
     "text": [
      "Total Pencil sale by Morgan 449.1\n"
     ]
    }
   ],
   "source": [
    "total_sale_by_person_item(\"Morgan\", \"Pencil\")"
   ]
  },
  {
   "cell_type": "code",
   "execution_count": 152,
   "metadata": {},
   "outputs": [],
   "source": [
    "import matplotlib.pyplot as plt"
   ]
  },
  {
   "cell_type": "code",
   "execution_count": 162,
   "metadata": {},
   "outputs": [],
   "source": [
    "?plt.plot()"
   ]
  },
  {
   "cell_type": "code",
   "execution_count": 166,
   "metadata": {},
   "outputs": [
    {
     "data": {
      "image/png": "[encoded data removed]",
      "text/plain": [
       "<Figure size 432x288 with 1 Axes>"
      ]
     },
     "metadata": {},
     "output_type": "display_data"
    }
   ],
   "source": [
    "nums    = [x for x in range(1,11)]\n",
    "squares = [x**2 for x in range(1,11)]\n",
    "plt.plot(nums, squares, label=\"square\", marker = 'o', color='blue')\n",
    "plt.grid()\n",
    "plt.legend()\n",
    "plt.show()"
   ]
  }
 ],
 "metadata": {
  "kernelspec": {
   "display_name": "Python 3",
   "language": "python",
   "name": "python3"
  },
  "language_info": {
   "codemirror_mode": {
    "name": "ipython",
    "version": 3
   },
   "file_extension": ".py",
   "mimetype": "text/x-python",
   "name": "python",
   "nbconvert_exporter": "python",
   "pygments_lexer": "ipython3",
   "version": "3.6.5"
  }
 },
 "nbformat": 4,
 "nbformat_minor": 2
}
